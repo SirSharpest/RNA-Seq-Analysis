{
 "cells": [
  {
   "cell_type": "markdown",
   "metadata": {},
   "source": [
    "## General helper functions\n",
    "\n"
   ]
  },
  {
   "cell_type": "markdown",
   "metadata": {},
   "source": [
    "### Making nice tables\n",
    "\n"
   ]
  },
  {
   "cell_type": "code",
   "execution_count": 1,
   "metadata": {},
   "outputs": [],
   "source": [
    "import tabulate\n",
    "import IPython\n",
    "\n",
    "class OrgFormatter(IPython.core.formatters.BaseFormatter):\n",
    "    format_type = IPython.core.formatters.Unicode('text/org')\n",
    "    print_method = IPython.core.formatters.ObjectName('_repr_org_')\n",
    "\n",
    "def pd_dataframe_to_org(df):\n",
    "    return tabulate.tabulate(df, headers='keys', tablefmt='orgtbl', showindex='always')\n",
    "\n",
    "ip = get_ipython()\n",
    "ip.display_formatter.formatters['text/org'] = OrgFormatter()\n",
    "\n",
    "f = ip.display_formatter.formatters['text/org']\n",
    "f.for_type_by_name('pandas.core.frame', 'DataFrame', pd_dataframe_to_org)"
   ]
  },
  {
   "cell_type": "markdown",
   "metadata": {},
   "source": [
    "### Excel reader and loading count data\n",
    "\n"
   ]
  },
  {
   "cell_type": "code",
   "execution_count": 2,
   "metadata": {},
   "outputs": [
    {
     "data": {
      "text/html": [
       "<div>\n",
       "<style scoped>\n",
       "    .dataframe tbody tr th:only-of-type {\n",
       "        vertical-align: middle;\n",
       "    }\n",
       "\n",
       "    .dataframe tbody tr th {\n",
       "        vertical-align: top;\n",
       "    }\n",
       "\n",
       "    .dataframe thead th {\n",
       "        text-align: right;\n",
       "    }\n",
       "</style>\n",
       "<table border=\"1\" class=\"dataframe\">\n",
       "  <thead>\n",
       "    <tr style=\"text-align: right;\">\n",
       "      <th></th>\n",
       "      <th>cer_c_05h_a37</th>\n",
       "      <th>cer_c_05h_b38</th>\n",
       "      <th>cer_c_05h_c39</th>\n",
       "      <th>cer_c_6h_a85</th>\n",
       "      <th>cer_c_6h_b86</th>\n",
       "      <th>cer_c_6h_c87</th>\n",
       "    </tr>\n",
       "  </thead>\n",
       "  <tbody>\n",
       "    <tr>\n",
       "      <th>AT1G01010</th>\n",
       "      <td>7.653326</td>\n",
       "      <td>7.734493</td>\n",
       "      <td>7.567899</td>\n",
       "      <td>7.635754</td>\n",
       "      <td>7.620546</td>\n",
       "      <td>7.810638</td>\n",
       "    </tr>\n",
       "    <tr>\n",
       "      <th>AT1G01020</th>\n",
       "      <td>7.939991</td>\n",
       "      <td>7.799090</td>\n",
       "      <td>7.793467</td>\n",
       "      <td>7.956164</td>\n",
       "      <td>7.924003</td>\n",
       "      <td>7.883987</td>\n",
       "    </tr>\n",
       "    <tr>\n",
       "      <th>AT1G01030</th>\n",
       "      <td>7.272848</td>\n",
       "      <td>7.095435</td>\n",
       "      <td>7.003891</td>\n",
       "      <td>6.883723</td>\n",
       "      <td>6.720143</td>\n",
       "      <td>6.589977</td>\n",
       "    </tr>\n",
       "    <tr>\n",
       "      <th>AT1G01040</th>\n",
       "      <td>9.168369</td>\n",
       "      <td>9.095655</td>\n",
       "      <td>9.135666</td>\n",
       "      <td>9.057237</td>\n",
       "      <td>9.085595</td>\n",
       "      <td>9.213040</td>\n",
       "    </tr>\n",
       "    <tr>\n",
       "      <th>AT1G01050</th>\n",
       "      <td>9.825000</td>\n",
       "      <td>9.805137</td>\n",
       "      <td>9.761236</td>\n",
       "      <td>9.827805</td>\n",
       "      <td>9.915654</td>\n",
       "      <td>9.772105</td>\n",
       "    </tr>\n",
       "  </tbody>\n",
       "</table>\n",
       "</div>"
      ],
      "text/org": [
       "|           |   cer_c_05h_a37 |   cer_c_05h_b38 |   cer_c_05h_c39 |   cer_c_6h_a85 |   cer_c_6h_b86 |   cer_c_6h_c87 |\n",
       "|-----------+-----------------+-----------------+-----------------+----------------+----------------+----------------|\n",
       "| AT1G01010 |         7.65333 |         7.73449 |         7.5679  |        7.63575 |        7.62055 |        7.81064 |\n",
       "| AT1G01020 |         7.93999 |         7.79909 |         7.79347 |        7.95616 |        7.924   |        7.88399 |\n",
       "| AT1G01030 |         7.27285 |         7.09544 |         7.00389 |        6.88372 |        6.72014 |        6.58998 |\n",
       "| AT1G01040 |         9.16837 |         9.09566 |         9.13567 |        9.05724 |        9.0856  |        9.21304 |\n",
       "| AT1G01050 |         9.825   |         9.80514 |         9.76124 |        9.82781 |        9.91565 |        9.77211 |"
      ],
      "text/plain": [
       "           cer_c_05h_a37  cer_c_05h_b38  cer_c_05h_c39  cer_c_6h_a85  \\\n",
       "AT1G01010       7.653326       7.734493       7.567899      7.635754   \n",
       "AT1G01020       7.939991       7.799090       7.793467      7.956164   \n",
       "AT1G01030       7.272848       7.095435       7.003891      6.883723   \n",
       "AT1G01040       9.168369       9.095655       9.135666      9.057237   \n",
       "AT1G01050       9.825000       9.805137       9.761236      9.827805   \n",
       "\n",
       "           cer_c_6h_b86  cer_c_6h_c87  \n",
       "AT1G01010      7.620546      7.810638  \n",
       "AT1G01020      7.924003      7.883987  \n",
       "AT1G01030      6.720143      6.589977  \n",
       "AT1G01040      9.085595      9.213040  \n",
       "AT1G01050      9.915654      9.772105  "
      ]
     },
     "execution_count": 2,
     "metadata": {},
     "output_type": "execute_result"
    }
   ],
   "source": [
    "import pandas as pd\n",
    "import warnings\n",
    "warnings.filterwarnings('ignore')\n",
    "\n",
    "\n",
    "def read_xl(fn=\"/Users/nathan/PHD/Transcripts/Data/diff_from_col0:False_onlyDiff:False.xlsx\", unique=True):\n",
    "    xl = pd.ExcelFile(fn)\n",
    "    sheet_names = xl.sheet_names\n",
    "    dfs = []\n",
    "    for s in sheet_names:\n",
    "        d = xl.parse(s)\n",
    "        if unique:\n",
    "            d['sample'] = s.split(\"|\")[0].replace(\" \", \"\")\n",
    "        else:\n",
    "            d['sample'] = s\n",
    "        dfs.append(d)\n",
    "\n",
    "    DE = pd.concat(dfs)\n",
    "    DE = DE.rename_axis('gene').sort_values(by=['gene', 'log2FoldChange'],\n",
    "                                            ascending=[False, False])\n",
    "    return DE\n",
    "\n",
    "counts = pd.read_csv(\n",
    "    \"/Users/hughesn/PHD/Transcripts/Data/norml_count_data.csv\",index_col=0)\n",
    "counts[[c for c in counts.columns if 'cer_c' in c]].head(5)"
   ]
  },
  {
   "cell_type": "markdown",
   "metadata": {},
   "source": [
    "### Gprofiler function\n",
    "\n"
   ]
  },
  {
   "cell_type": "code",
   "execution_count": 3,
   "metadata": {},
   "outputs": [
    {
     "data": {
      "text/html": [
       "<div>\n",
       "<style scoped>\n",
       "    .dataframe tbody tr th:only-of-type {\n",
       "        vertical-align: middle;\n",
       "    }\n",
       "\n",
       "    .dataframe tbody tr th {\n",
       "        vertical-align: top;\n",
       "    }\n",
       "\n",
       "    .dataframe thead th {\n",
       "        text-align: right;\n",
       "    }\n",
       "</style>\n",
       "<table border=\"1\" class=\"dataframe\">\n",
       "  <thead>\n",
       "    <tr style=\"text-align: right;\">\n",
       "      <th></th>\n",
       "      <th>incoming</th>\n",
       "      <th>name</th>\n",
       "      <th>description</th>\n",
       "    </tr>\n",
       "  </thead>\n",
       "  <tbody>\n",
       "    <tr>\n",
       "      <th>0</th>\n",
       "      <td>AT1G01010</td>\n",
       "      <td>NAC001</td>\n",
       "      <td>NAC domain-containing protein 1</td>\n",
       "    </tr>\n",
       "    <tr>\n",
       "      <th>1</th>\n",
       "      <td>AT1G01020</td>\n",
       "      <td>ARV1</td>\n",
       "      <td>ARV1 family protein</td>\n",
       "    </tr>\n",
       "    <tr>\n",
       "      <th>2</th>\n",
       "      <td>AT1G01030</td>\n",
       "      <td>NGA3</td>\n",
       "      <td>B3 domain-containing transcription factor NGA3</td>\n",
       "    </tr>\n",
       "    <tr>\n",
       "      <th>3</th>\n",
       "      <td>AT1G01040</td>\n",
       "      <td>DCL1</td>\n",
       "      <td>Dicer-like 1</td>\n",
       "    </tr>\n",
       "    <tr>\n",
       "      <th>4</th>\n",
       "      <td>AT1G01050</td>\n",
       "      <td>PPA1</td>\n",
       "      <td>Soluble inorganic pyrophosphatase 1</td>\n",
       "    </tr>\n",
       "  </tbody>\n",
       "</table>\n",
       "</div>"
      ],
      "text/org": [
       "|    | incoming   | name   | description                                    |\n",
       "|----+------------+--------+------------------------------------------------|\n",
       "|  0 | AT1G01010  | NAC001 | NAC domain-containing protein 1                |\n",
       "|  1 | AT1G01020  | ARV1   | ARV1 family protein                            |\n",
       "|  2 | AT1G01030  | NGA3   | B3 domain-containing transcription factor NGA3 |\n",
       "|  3 | AT1G01040  | DCL1   | Dicer-like 1                                   |\n",
       "|  4 | AT1G01050  | PPA1   | Soluble inorganic pyrophosphatase 1            |"
      ],
      "text/plain": [
       "    incoming    name                                      description\n",
       "0  AT1G01010  NAC001                 NAC domain-containing protein 1 \n",
       "1  AT1G01020    ARV1                             ARV1 family protein \n",
       "2  AT1G01030    NGA3  B3 domain-containing transcription factor NGA3 \n",
       "3  AT1G01040    DCL1                                    Dicer-like 1 \n",
       "4  AT1G01050    PPA1             Soluble inorganic pyrophosphatase 1 "
      ]
     },
     "execution_count": 3,
     "metadata": {},
     "output_type": "execute_result"
    }
   ],
   "source": [
    "from gprofiler import GProfiler\n",
    "\n",
    "def get_gene_names(geneList):\n",
    "\n",
    "    gp = GProfiler(return_dataframe=True)\n",
    "    df = gp.convert(organism='athaliana',\n",
    "               query=geneList)[['incoming', 'name', 'description']]\n",
    "    df['description'] = df.apply(lambda x: x['description'].split('[')[0].split(';')[0], axis=1)\n",
    "    return df\n",
    "get_gene_names(list(counts.head(5).index))"
   ]
  },
  {
   "cell_type": "markdown",
   "metadata": {},
   "source": [
    "### Misc plotting functions\n",
    "\n"
   ]
  },
  {
   "cell_type": "code",
   "execution_count": 4,
   "metadata": {},
   "outputs": [],
   "source": [
    "def get_locs(DE, n, include_large=True, include_small=True):\n",
    "    samples = DE['sample'].unique()\n",
    "    locs = []\n",
    "    for idx, s in enumerate(samples):\n",
    "        if include_large:\n",
    "            l1 = DE[DE['sample'] == s][['log2FoldChange']].groupby(['gene']).sum().sort_values(by='log2FoldChange',\n",
    "                                                                                               ascending=False).head(n).index.values\n",
    "            locs.extend(l1)\n",
    "        if include_small:\n",
    "            l2 = DE[DE['sample'] == s][['log2FoldChange']].groupby(['gene']).sum().sort_values(by='log2FoldChange',\n",
    "                                                                                               ascending=True).head(n).index.values\n",
    "            locs.extend(l2)\n",
    "    locs = np.array(locs)\n",
    "    return locs\n",
    "\n",
    "\n",
    "def make_clustermap_df_n_samples(DE, description='description', n=20, include_large=True, include_small=True):\n",
    "    locs = get_locs(DE, n, include_large=include_large, include_small=include_small)\n",
    "    top = DE.loc[locs]\n",
    "    top = top.groupby(['sample', 'gene']).mean(\n",
    "    ).reset_index().set_index('gene')\n",
    "    top = top.pivot(columns='sample', values='log2FoldChange')\n",
    "    top['gene name'] = list(get_gene_names(\n",
    "        list(top.index.values))[description])\n",
    "    # top = top.set_index('gene name')\n",
    "    return top\n",
    "\n",
    "\n",
    "def get_two_clustermaps_data(df, n):\n",
    "    top = make_clustermap_df_n_samples(df, n=n, include_small=False)\n",
    "    bot = make_clustermap_df_n_samples(df, n=n, include_large=False)\n",
    "    return (top, bot)\n",
    "\n",
    "def make_two_clustermaps(df, n=50):\n",
    "    top, bot = get_two_clustermaps_data(df, n)\n",
    "    gt = sns.clustermap(top, cmap='bwr', vmin=-10, vmax=10, yticklabels=True, figsize=(15,15))\n",
    "    gb = sns.clustermap(bot, cmap='bwr', vmin=-10, vmax=10, yticklabels=True, figsize=(15,15))\n",
    "    return (top, bot, gt, gb)\n",
    "\n",
    "\n",
    "def make_clustermap_table(df, n=50):\n",
    "    top = make_clustermap_df_n_samples(df, n=n, include_small=False)\n",
    "    bot = make_clustermap_df_n_samples(df, n=n, include_large=False)\n",
    "    return pd.concat([top, bot])"
   ]
  },
  {
   "cell_type": "markdown",
   "metadata": {},
   "source": [
    "## Count Data\n",
    "\n"
   ]
  },
  {
   "cell_type": "markdown",
   "metadata": {},
   "source": [
    "### Count data feature ranking\n",
    "\n"
   ]
  },
  {
   "cell_type": "markdown",
   "metadata": {},
   "source": [
    "So it's worth noting that all expression profiles look similar, so choosing from 20k+ genes for being a key trait is not going to work.\n",
    "\n"
   ]
  },
  {
   "cell_type": "code",
   "execution_count": 6,
   "metadata": {},
   "outputs": [
    {
     "data": {
      "image/png": "[encoded data removed]",
      "text/plain": [
       "<Figure size 1080x360 with 3 Axes>"
      ]
     },
     "metadata": {},
     "output_type": "display_data"
    }
   ],
   "source": [
    "import pandas as pd\n",
    "import matplotlib.pyplot as plt\n",
    "import seaborn as sns\n",
    "sns.set()\n",
    "counts = pd.read_csv(\n",
    "    \"/Users/hughesn/PHD/Transcripts/Data/norml_count_data.csv\", index_col=0)\n",
    "\n",
    "filter_cols = [c for c in counts.columns if (\n",
    "    c.startswith('col_w_6h') or c.startswith('col_c_6h'))]\n",
    "\n",
    "col_counts = counts[filter_cols]\n",
    "\n",
    "col_w_counts = col_counts[[c for c in col_counts.columns if '_w_' in c]]\n",
    "col_c_counts = col_counts[[c for c in col_counts.columns if '_c_' in c]]\n",
    "\n",
    "fig, ax = plt.subplots(1,3, sharex=True, sharey=True, figsize=(15,5))\n",
    "axes = iter(ax)\n",
    "for c,w in zip(col_c_counts.columns, col_w_counts.columns):\n",
    "    a = next(axes)\n",
    "    a.hist(col_c_counts[c], alpha=0.3)\n",
    "    a.hist(col_w_counts[w], alpha=0.3)\n",
    "    a.set_title(w.replace('_w_','_'))"
   ]
  },
  {
   "cell_type": "markdown",
   "metadata": {},
   "source": [
    "#### Specifically grouped genes to test with random forest\n",
    "\n"
   ]
  },
  {
   "cell_type": "markdown",
   "metadata": {},
   "source": [
    "##### Grouped by counts\n",
    "\n"
   ]
  },
  {
   "cell_type": "markdown",
   "metadata": {},
   "source": [
    "*N.B. doesn't work well*\n",
    "\n"
   ]
  },
  {
   "cell_type": "code",
   "execution_count": null,
   "metadata": {},
   "outputs": [],
   "source": [
    "import jenkspy\n",
    "from sklearn.ensemble import RandomForestClassifier\n",
    "from sklearn.model_selection import train_test_split\n",
    "import numpy as np\n",
    "import time\n",
    "\n",
    "col0 = counts[[c for c in counts.columns if c.startswith('col_w_05h')]].mean(axis=1).sort_values()\n",
    "col0A = np.array(col0)\n",
    "breaks = jenkspy.jenks_breaks(col0A, nb_class=20)\n",
    "\n",
    "col0_index = pd.Index(col0)\n",
    "\n",
    "indices = []\n",
    "for b in breaks:\n",
    "    r = col0_index.get_loc(b)\n",
    "    if isinstance(r, slice):\n",
    "        r = r.stop\n",
    "    indices.append(r)\n",
    "\n",
    "group_locs = [df.index for df in np.split(col0, indices)]\n",
    "\n",
    "cols = {}\n",
    "for c in counts.columns:\n",
    "    avg_vals = []\n",
    "    for g in group_locs:\n",
    "        avg_vals.append(np.mean(counts[c].loc[g]))\n",
    "    cols[c] = avg_vals\n",
    "refined_counts = pd.DataFrame(cols)\n",
    "refined_counts = refined_counts.set_index(pd.Index([\"group {0}\".format(i) for i in refined_counts.index]))\n",
    "\n",
    "\n",
    "\n",
    "subset = refined_counts[[c for c in refined_counts.columns if (c.startswith('col_w_05h') or c.startswith('col_c_05h')) ]]\n",
    "data = refined_counts.T\n",
    "data = data.reset_index()\n",
    "data['index'] = data['index'].apply(lambda x: x.rsplit('_',1)[0])\n",
    "data = data.set_index('index')\n",
    "feat_labels = data.columns\n",
    "\n",
    "t_start = time.time()\n",
    "X_train, X_test, y_train, y_test = train_test_split(data.values.T, feat_labels, test_size=0.33, random_state=42)\n",
    "forest = RandomForestClassifier(n_estimators=10000, random_state=0, n_jobs=-1)\n",
    "forest.fit(X_train, y_train)\n",
    "t_end = time.time()\n",
    "importances = forest.feature_importances_\n",
    "indices = np.argsort(importances)[::-1]\n",
    "\n",
    "for feature in sorted(zip(feat_labels, forest.feature_importances_), key=lambda x: x[1]):\n",
    "    print(feature)"
   ]
  },
  {
   "cell_type": "code",
   "execution_count": null,
   "metadata": {},
   "outputs": [],
   "source": []
  },
  {
   "cell_type": "code",
   "execution_count": null,
   "metadata": {},
   "outputs": [],
   "source": []
  }
 ],
 "metadata": {
  "kernelspec": {
   "display_name": "Python 3",
   "language": "python",
   "name": "python3"
  },
  "language_info": {
   "codemirror_mode": {
    "name": "ipython",
    "version": 3
   },
   "file_extension": ".py",
   "mimetype": "text/x-python",
   "name": "python",
   "nbconvert_exporter": "python",
   "pygments_lexer": "ipython3",
   "version": "3.6.6"
  },
  "org": null
 },
 "nbformat": 4,
 "nbformat_minor": 1
}
